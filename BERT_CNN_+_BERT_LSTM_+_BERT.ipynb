{
  "cells": [
    {
      "cell_type": "markdown",
      "metadata": {
        "id": "go0FYypKwFdx"
      },
      "source": [
        "# Installing Libs"
      ]
    },
    {
      "cell_type": "code",
      "execution_count": null,
      "metadata": {
        "colab": {
          "base_uri": "https://localhost:8080/"
        },
        "id": "pg_wMFOVeSUH",
        "outputId": "dcb723ef-d55a-46db-ef25-152877f7bb8c"
      },
      "outputs": [],
      "source": [
        "!pip install tensorflow-text\n",
        "!pip install tensorflow_hub==0.16.1\n",
        "!pip install tf-keras\n",
        "!pip install transformers\n",
        "!pip install -U \"tensorflow-text==2.15.*\"\n",
        "!pip install -U \"tf-models-official==2.15.*\"\n",
        "!pip install tf-models-official\n",
        "!pip install seaborn\n",
        "!pip install tensorflow-models\n",
        "!pip install gradio"
      ]
    },
    {
      "cell_type": "code",
      "execution_count": null,
      "metadata": {
        "id": "4lERxGN4eZ_Z"
      },
      "outputs": [],
      "source": [
        "import os\n",
        "import shutil\n",
        "import tensorflow as tf\n",
        "import tensorflow_text as text\n",
        "import tensorflow_hub as hub\n",
        "import tensorflow as tf\n",
        "from tensorflow.keras.preprocessing import text, sequence\n",
        "from tensorflow.keras.models import Sequential\n",
        "from tensorflow.keras.layers import Conv1D, GlobalMaxPooling1D, MaxPooling1D, Dense, Dropout, Activation, Embedding\n",
        "import matplotlib.pyplot as plt\n",
        "import pandas as pd\n",
        "import numpy as np\n",
        "from sklearn.model_selection import GroupKFold\n",
        "import matplotlib.pyplot as plt\n",
        "from tqdm.notebook import tqdm\n",
        "from scipy.stats import spearmanr\n",
        "import seaborn as sns\n",
        "from math import floor, ceil\n",
        "import pickle\n",
        "from sklearn.model_selection import train_test_split\n",
        "from sklearn.metrics import accuracy_score, f1_score, confusion_matrix\n",
        "from sklearn.model_selection import train_test_split\n",
        "from sklearn.metrics import confusion_matrix,classification_report\n",
        "from google.colab import drive\n",
        "import gradio as gr"
      ]
    },
    {
      "cell_type": "code",
      "execution_count": null,
      "metadata": {
        "id": "byler5AaJs85"
      },
      "outputs": [],
      "source": [
        "from official.nlp import optimization"
      ]
    },
    {
      "cell_type": "markdown",
      "metadata": {
        "id": "RBaTsc9jvu47"
      },
      "source": [
        "# Read dataset"
      ]
    },
    {
      "cell_type": "code",
      "execution_count": null,
      "metadata": {
        "colab": {
          "base_uri": "https://localhost:8080/"
        },
        "id": "v38QptTSebIW",
        "outputId": "e0214089-be3a-4a10-9f01-ec738bfd5a7a"
      },
      "outputs": [],
      "source": [
        "drive.mount('/gdrive')"
      ]
    },
    {
      "cell_type": "code",
      "execution_count": null,
      "metadata": {
        "id": "fBjQJrH5eouM"
      },
      "outputs": [],
      "source": [
        "nRowsRead = None\n",
        "df_org = pd.read_csv('/gdrive/MyDrive/CS431/dataset/labeled_data.csv', delimiter=',', nrows = nRowsRead)\n",
        "df_eda = pd.read_csv('/gdrive/MyDrive/CS431/dataset/augmented_data.csv', delimiter=',', nrows = nRowsRead)\n",
        "# df.dataframeName = 'labeled_data.csv'"
      ]
    },
    {
      "cell_type": "markdown",
      "metadata": {
        "id": "mUDMdmWixPq3"
      },
      "source": [
        "# Preprocessing"
      ]
    },
    {
      "cell_type": "code",
      "execution_count": null,
      "metadata": {
        "colab": {
          "base_uri": "https://localhost:8080/"
        },
        "id": "fJs1ZfQAfM7m",
        "outputId": "bc23c36c-676a-443b-fbf6-f5a8782f57d0"
      },
      "outputs": [],
      "source": [
        "nRow, nCol = df_org.shape\n",
        "print('Original dataset:  {} rows and {} columns'.format(nRow, nCol))\n",
        "nRow1, nCol1 = df_eda.shape\n",
        "print('EDA dataset: {} rows and {} columns'.format(nRow1, nCol1))"
      ]
    },
    {
      "cell_type": "code",
      "execution_count": null,
      "metadata": {
        "colab": {
          "base_uri": "https://localhost:8080/"
        },
        "id": "z-_jvS90fPan",
        "outputId": "c0a14d8c-54fb-4e33-9500-09d8d5b14a2b"
      },
      "outputs": [],
      "source": [
        "# Doing Transformation\n",
        "c = df_org['class']\n",
        "df_org.rename(columns={'tweet' : 'text',\n",
        "                   'class' : 'category'},\n",
        "                    inplace=True)\n",
        "a = df_org['text']\n",
        "b =df_org['category'].map({0: 'hate_speech', 1: 'offensive_language',2: 'neither'})\n",
        "df_org= pd.concat([a,b,c], axis=1)\n",
        "df_org.rename(columns={'class' : 'label'},\n",
        "                    inplace=True)\n",
        "\n",
        "hate, offensive, neither = np.bincount(df_org['label'])\n",
        "total = hate + offensive + neither\n",
        "print('Examples:\\n    Total: {}\\n    Hate: {} ({:.2f}% of total)\\n'.format(\n",
        "    total, hate, 100 * hate / total))\n",
        "print('Examples:\\n    Total: {}\\n    Offensive: {} ({:.2f}% of total)\\n'.format(\n",
        "    total, offensive, 100 * offensive / total))\n",
        "print('Examples:\\n    Total: {}\\n    Neither: {} ({:.2f}% of total)\\n'.format(\n",
        "    total, neither, 100 * neither / total))\n"
      ]
    },
    {
      "cell_type": "code",
      "execution_count": null,
      "metadata": {
        "colab": {
          "base_uri": "https://localhost:8080/"
        },
        "id": "-Exaj_X3fQbl",
        "outputId": "215a0168-47ed-43c0-b835-a04beafb0519"
      },
      "outputs": [],
      "source": [
        "# On the EDA dataset\n",
        "# Doing Transformation\n",
        "c = df_eda['class']\n",
        "df_eda.rename(columns={'tweet' : 'text',\n",
        "                   'class' : 'category'},\n",
        "                    inplace=True)\n",
        "a = df_eda['text']\n",
        "b =df_eda['category'].map({0: 'hate_speech', 1: 'offensive_language',2: 'neither'})\n",
        "df_eda= pd.concat([a,b,c], axis=1)\n",
        "df_eda.rename(columns={'class' : 'label'},\n",
        "                    inplace=True)\n",
        "\n",
        "hate, offensive, neither = np.bincount(df_eda['label'])\n",
        "total = hate + offensive + neither\n",
        "print('Examples:\\n    Total: {}\\n    Hate: {} ({:.2f}% of total)\\n'.format(\n",
        "    total, hate, 100 * hate / total))\n",
        "print('Examples:\\n    Total: {}\\n    Offensive: {} ({:.2f}% of total)\\n'.format(\n",
        "    total, offensive, 100 * offensive / total))\n",
        "print('Examples:\\n    Total: {}\\n    Neither: {} ({:.2f}% of total)\\n'.format(\n",
        "    total, neither, 100 * neither / total))"
      ]
    },
    {
      "cell_type": "code",
      "execution_count": null,
      "metadata": {
        "id": "GzxViRMwfTVo"
      },
      "outputs": [],
      "source": [
        "df = df_eda"
      ]
    },
    {
      "cell_type": "code",
      "execution_count": null,
      "metadata": {
        "id": "VIoUxrstfR30"
      },
      "outputs": [],
      "source": [
        "import re\n",
        "import string\n",
        "import nltk"
      ]
    },
    {
      "cell_type": "code",
      "execution_count": null,
      "metadata": {
        "colab": {
          "base_uri": "https://localhost:8080/"
        },
        "id": "4AXjA7w-fUYT",
        "outputId": "c2916e3f-91dc-41fc-d457-6e6ead42116d"
      },
      "outputs": [],
      "source": [
        "from wordcloud import WordCloud, STOPWORDS\n",
        "stopwords = set(STOPWORDS)\n",
        "stopwords.add(\"RT\")\n",
        "stopwords.add(\"Name\")\n",
        "print(stopwords)"
      ]
    },
    {
      "cell_type": "code",
      "execution_count": null,
      "metadata": {
        "id": "PjUzQ_g4fWIT"
      },
      "outputs": [],
      "source": [
        "stemmer = nltk.SnowballStemmer(\"english\")"
      ]
    },
    {
      "cell_type": "code",
      "execution_count": null,
      "metadata": {
        "id": "R4xRCvy0fXDV"
      },
      "outputs": [],
      "source": [
        "def clean(text):\n",
        "\n",
        "    # Convert text to lowercase\n",
        "    text = str(text).lower()\n",
        "\n",
        "    # Remove square brackets and their contents\n",
        "    # text = re.sub('\\[.*?\\]', '', text)\n",
        "\n",
        "    # Remove URLs\n",
        "    text = re.sub('https?://\\S+|www\\.\\S+', '', text)\n",
        "\n",
        "    # Remove HTML tags\n",
        "    text = re.sub('<.*?>+', '', text)\n",
        "\n",
        "    # Remove punctuation\n",
        "    text = re.sub('[%s]' % re.escape(string.punctuation), '', text)\n",
        "\n",
        "    # Remove newline characters\n",
        "    text = re.sub('\\n', '', text)\n",
        "\n",
        "    # Remove words containing digits\n",
        "    text = re.sub('\\w*\\d\\w*', '', text)\n",
        "\n",
        "    # Remove stopwords\n",
        "    text = [word for word in text.split(' ') if word not in stopwords]\n",
        "    text = \" \".join(text)\n",
        "\n",
        "    # Apply stemming\n",
        "    text = [stemmer.stem(word) for word in text.split(' ')]\n",
        "    text = \" \".join(text)\n",
        "    return text"
      ]
    },
    {
      "cell_type": "code",
      "execution_count": null,
      "metadata": {
        "id": "asgmuVt_fYz9"
      },
      "outputs": [],
      "source": [
        "df[\"text\"] = df[\"text\"].apply(clean)"
      ]
    },
    {
      "cell_type": "markdown",
      "metadata": {
        "id": "bgkX5D86xWLw"
      },
      "source": [
        "# Splitting the dataset"
      ]
    },
    {
      "cell_type": "code",
      "execution_count": null,
      "metadata": {
        "id": "kLxdKM3sfa-L"
      },
      "outputs": [],
      "source": [
        "# Splitting Dataset\n",
        "X_train_, X_test, y_train_, y_test = train_test_split(\n",
        "    df.index.values,\n",
        "    df.label.values,\n",
        "    test_size=0.10,\n",
        "    random_state=42,\n",
        "    stratify=df.label.values,\n",
        ")\n",
        "\n",
        "X_train, X_val, y_train, y_val = train_test_split(\n",
        "    df.loc[X_train_].index.values,\n",
        "    df.loc[X_train_].label.values,\n",
        "    test_size=0.10,\n",
        "    random_state=42,\n",
        "    stratify=df.loc[X_train_].label.values,\n",
        ")\n",
        "\n",
        "df['data_type'] = ['not_set']*df.shape[0]\n",
        "df.loc[X_train, 'data_type'] = 'train'\n",
        "df.loc[X_val, 'data_type'] = 'val'\n",
        "df.loc[X_test, 'data_type'] = 'test'\n",
        "\n",
        "df_train = df.loc[df[\"data_type\"]==\"train\"]\n",
        "df_val = df.loc[df[\"data_type\"]==\"val\"]\n",
        "df_test = df.loc[df[\"data_type\"]==\"test\"]\n"
      ]
    },
    {
      "cell_type": "markdown",
      "metadata": {
        "id": "V0kEj4VfxdRI"
      },
      "source": [
        "# Printing Wordclouds"
      ]
    },
    {
      "cell_type": "code",
      "execution_count": null,
      "metadata": {
        "colab": {
          "base_uri": "https://localhost:8080/"
        },
        "id": "f-L0O-LpfcTq",
        "outputId": "a0cfd258-a3ce-46b3-f610-c61cf3b8a22a"
      },
      "outputs": [],
      "source": [
        "import random\n",
        "def random_color_func(word=None, font_size=None, position=None,  orientation=None, font_path=None, random_state=None):\n",
        "    h = 344\n",
        "    s = int(100.0 * 255.0 / 255.0)\n",
        "    l = int(100.0 * float(random_state.randint(60, 120)) / 255.0)\n",
        "    return \"hsl({}, {}%, {}%)\".format(h, s, l)\n",
        "\n",
        "wordcloud = WordCloud(\n",
        "                          background_color='white',\n",
        "                          stopwords=stopwords,\n",
        "                          max_words=200,\n",
        "                          max_font_size=60,\n",
        "                          random_state=42\n",
        "                         ).generate(str(df.loc[df[\"category\"]==\"offensive_language\"].text))\n",
        "print(\"Wordcloud for offensive_language class: \")\n",
        "fig = plt.figure(1)\n",
        "plt.imshow(wordcloud.recolor(color_func= random_color_func, random_state=42),\n",
        "           interpolation=\"bilinear\")\n",
        "plt.axis('off')\n",
        "plt.show()"
      ]
    },
    {
      "cell_type": "code",
      "execution_count": null,
      "metadata": {
        "colab": {
          "base_uri": "https://localhost:8080/"
        },
        "id": "Uzn6TszSfdYD",
        "outputId": "7bf72354-7055-46c3-8722-7bf3cccd4cd5"
      },
      "outputs": [],
      "source": [
        "def random_color_func(word=None, font_size=None, position=None,  orientation=None, font_path=None, random_state=None):\n",
        "    h = 180\n",
        "    s = int(100.0 * 255.0 / 255.0)\n",
        "    l = int(100.0 * float(random_state.randint(60, 120)) / 255.0)\n",
        "    return \"hsl({}, {}%, {}%)\".format(h, s, l)\n",
        "\n",
        "wordcloud = WordCloud(\n",
        "                          background_color='white',\n",
        "                          stopwords=stopwords,\n",
        "                          max_words=200,\n",
        "                          max_font_size=60,\n",
        "                          random_state=42\n",
        "                         ).generate(str((df.loc[df[\"category\"]==\"hate_speech\"].text)))\n",
        "print(\"Wordcloud for hate_speech class: \")\n",
        "fig = plt.figure(1)\n",
        "plt.imshow(wordcloud.recolor(color_func= random_color_func, random_state=42),\n",
        "           interpolation=\"bilinear\")\n",
        "plt.axis('off')\n",
        "plt.show()"
      ]
    },
    {
      "cell_type": "code",
      "execution_count": null,
      "metadata": {
        "colab": {
          "base_uri": "https://localhost:8080/"
        },
        "id": "3Z7iuIrefeeN",
        "outputId": "e31c1db6-a3e2-4d81-84ab-6319910e9c4a"
      },
      "outputs": [],
      "source": [
        "def random_color_func(word=None, font_size=None, position=None,  orientation=None, font_path=None, random_state=None):\n",
        "    h = 20\n",
        "    s = int(100.0 * 255.0 / 255.0)\n",
        "    l = int(100.0 * float(random_state.randint(60, 120)) / 255.0)\n",
        "    return \"hsl({}, {}%, {}%)\".format(h, s, l)\n",
        "\n",
        "wordcloud = WordCloud(\n",
        "                          background_color='white',\n",
        "                          stopwords=stopwords,\n",
        "                          max_words=200,\n",
        "                          max_font_size=60,\n",
        "                          random_state=42\n",
        "                         ).generate(str((df.loc[df[\"category\"]==\"neither\"].text)))\n",
        "print(\"Wordcloud for neither class: \")\n",
        "fig = plt.figure(1)\n",
        "plt.imshow(wordcloud.recolor(color_func= random_color_func, random_state=42),\n",
        "           interpolation=\"bilinear\")\n",
        "plt.axis('off')\n",
        "plt.show()"
      ]
    },
    {
      "cell_type": "markdown",
      "metadata": {
        "id": "IvRD_MDwxtSm"
      },
      "source": [
        "#Build model"
      ]
    },
    {
      "cell_type": "code",
      "execution_count": null,
      "metadata": {
        "id": "eGbebUxCfqZ6"
      },
      "outputs": [],
      "source": [
        "# Build input:\n",
        "# Creating tensors\n",
        "train_ds = tf.data.Dataset.from_tensor_slices((df_train.text.values, df_train.label.values))\n",
        "val_ds = tf.data.Dataset.from_tensor_slices((df_val.text.values, df_val.label.values))\n",
        "test_ds = tf.data.Dataset.from_tensor_slices((df_test.text.values, df_test.label.values))\n",
        "\n",
        "train_ds = train_ds.shuffle(len(df_train)).batch(32, drop_remainder=False)\n",
        "val_ds = val_ds.shuffle(len(df_val)).batch(32, drop_remainder=False)\n",
        "test_ds = test_ds.shuffle(len(df_test)).batch(32, drop_remainder=False)"
      ]
    },
    {
      "cell_type": "code",
      "execution_count": null,
      "metadata": {
        "id": "vsD80Ti5xnWN"
      },
      "outputs": [],
      "source": [
        "bert_model_name = 'small_bert/bert_en_uncased_L-2_H-128_A-2'"
      ]
    },
    {
      "cell_type": "code",
      "execution_count": null,
      "metadata": {
        "id": "7dBcSEYixn8z"
      },
      "outputs": [],
      "source": [
        "map_name_to_handle = {\n",
        "    'bert_en_uncased_L-12_H-768_A-12':\n",
        "        'https://tfhub.dev/tensorflow/bert_en_uncased_L-12_H-768_A-12/3',\n",
        "    'bert_en_cased_L-12_H-768_A-12':\n",
        "        'https://tfhub.dev/tensorflow/bert_en_cased_L-12_H-768_A-12/3',\n",
        "    'bert_multi_cased_L-12_H-768_A-12':\n",
        "        'https://tfhub.dev/tensorflow/bert_multi_cased_L-12_H-768_A-12/3',\n",
        "    'small_bert/bert_en_uncased_L-2_H-128_A-2':\n",
        "        'https://tfhub.dev/tensorflow/small_bert/bert_en_uncased_L-2_H-128_A-2/1',\n",
        "    'small_bert/bert_en_uncased_L-2_H-256_A-4':\n",
        "        'https://tfhub.dev/tensorflow/small_bert/bert_en_uncased_L-2_H-256_A-4/1',\n",
        "    'small_bert/bert_en_uncased_L-2_H-512_A-8':\n",
        "        'https://tfhub.dev/tensorflow/small_bert/bert_en_uncased_L-2_H-512_A-8/1',\n",
        "    'small_bert/bert_en_uncased_L-2_H-768_A-12':\n",
        "        'https://tfhub.dev/tensorflow/small_bert/bert_en_uncased_L-2_H-768_A-12/1',\n",
        "    'small_bert/bert_en_uncased_L-4_H-128_A-2':\n",
        "        'https://tfhub.dev/tensorflow/small_bert/bert_en_uncased_L-4_H-128_A-2/1',\n",
        "    'small_bert/bert_en_uncased_L-4_H-256_A-4':\n",
        "        'https://tfhub.dev/tensorflow/small_bert/bert_en_uncased_L-4_H-256_A-4/1',\n",
        "    'small_bert/bert_en_uncased_L-4_H-512_A-8':\n",
        "        'https://tfhub.dev/tensorflow/small_bert/bert_en_uncased_L-4_H-512_A-8/1',\n",
        "    'small_bert/bert_en_uncased_L-4_H-768_A-12':\n",
        "        'https://tfhub.dev/tensorflow/small_bert/bert_en_uncased_L-4_H-768_A-12/1',\n",
        "    'small_bert/bert_en_uncased_L-6_H-128_A-2':\n",
        "        'https://tfhub.dev/tensorflow/small_bert/bert_en_uncased_L-6_H-128_A-2/1',\n",
        "    'small_bert/bert_en_uncased_L-6_H-256_A-4':\n",
        "        'https://tfhub.dev/tensorflow/small_bert/bert_en_uncased_L-6_H-256_A-4/1',\n",
        "    'small_bert/bert_en_uncased_L-6_H-512_A-8':\n",
        "        'https://tfhub.dev/tensorflow/small_bert/bert_en_uncased_L-6_H-512_A-8/1',\n",
        "    'small_bert/bert_en_uncased_L-6_H-768_A-12':\n",
        "        'https://tfhub.dev/tensorflow/small_bert/bert_en_uncased_L-6_H-768_A-12/1',\n",
        "    'small_bert/bert_en_uncased_L-8_H-128_A-2':\n",
        "        'https://tfhub.dev/tensorflow/small_bert/bert_en_uncased_L-8_H-128_A-2/1',\n",
        "    'small_bert/bert_en_uncased_L-8_H-256_A-4':\n",
        "        'https://tfhub.dev/tensorflow/small_bert/bert_en_uncased_L-8_H-256_A-4/1',\n",
        "    'small_bert/bert_en_uncased_L-8_H-512_A-8':\n",
        "        'https://tfhub.dev/tensorflow/small_bert/bert_en_uncased_L-8_H-512_A-8/1',\n",
        "    'small_bert/bert_en_uncased_L-8_H-768_A-12':\n",
        "        'https://tfhub.dev/tensorflow/small_bert/bert_en_uncased_L-8_H-768_A-12/1',\n",
        "    'small_bert/bert_en_uncased_L-10_H-128_A-2':\n",
        "        'https://tfhub.dev/tensorflow/small_bert/bert_en_uncased_L-10_H-128_A-2/1',\n",
        "    'small_bert/bert_en_uncased_L-10_H-256_A-4':\n",
        "        'https://tfhub.dev/tensorflow/small_bert/bert_en_uncased_L-10_H-256_A-4/1',\n",
        "    'small_bert/bert_en_uncased_L-10_H-512_A-8':\n",
        "        'https://tfhub.dev/tensorflow/small_bert/bert_en_uncased_L-10_H-512_A-8/1',\n",
        "    'small_bert/bert_en_uncased_L-10_H-768_A-12':\n",
        "        'https://tfhub.dev/tensorflow/small_bert/bert_en_uncased_L-10_H-768_A-12/1',\n",
        "    'small_bert/bert_en_uncased_L-12_H-128_A-2':\n",
        "        'https://tfhub.dev/tensorflow/small_bert/bert_en_uncased_L-12_H-128_A-2/1',\n",
        "    'small_bert/bert_en_uncased_L-12_H-256_A-4':\n",
        "        'https://tfhub.dev/tensorflow/small_bert/bert_en_uncased_L-12_H-256_A-4/1',\n",
        "    'small_bert/bert_en_uncased_L-12_H-512_A-8':\n",
        "        'https://tfhub.dev/tensorflow/small_bert/bert_en_uncased_L-12_H-512_A-8/1',\n",
        "    'small_bert/bert_en_uncased_L-12_H-768_A-12':\n",
        "        'https://tfhub.dev/tensorflow/small_bert/bert_en_uncased_L-12_H-768_A-12/1',\n",
        "    'albert_en_base':\n",
        "        'https://tfhub.dev/tensorflow/albert_en_base/2',\n",
        "    'electra_small':\n",
        "        'https://tfhub.dev/google/electra_small/2',\n",
        "    'electra_base':\n",
        "        'https://tfhub.dev/google/electra_base/2',\n",
        "    'experts_pubmed':\n",
        "        'https://tfhub.dev/google/experts/bert/pubmed/2',\n",
        "    'experts_wiki_books':\n",
        "        'https://tfhub.dev/google/experts/bert/wiki_books/2',\n",
        "    'talking-heads_base':\n",
        "        'https://tfhub.dev/tensorflow/talkheads_ggelu_bert_en_base/1',\n",
        "}\n",
        "\n",
        "map_model_to_preprocess = {\n",
        "    'bert_en_uncased_L-12_H-768_A-12':\n",
        "        'https://tfhub.dev/tensorflow/bert_en_uncased_preprocess/3',\n",
        "    'bert_en_cased_L-12_H-768_A-12':\n",
        "        'https://tfhub.dev/tensorflow/bert_en_cased_preprocess/3',\n",
        "    'small_bert/bert_en_uncased_L-2_H-128_A-2':\n",
        "        'https://tfhub.dev/tensorflow/bert_en_uncased_preprocess/3',\n",
        "    'small_bert/bert_en_uncased_L-2_H-256_A-4':\n",
        "        'https://tfhub.dev/tensorflow/bert_en_uncased_preprocess/3',\n",
        "    'small_bert/bert_en_uncased_L-2_H-512_A-8':\n",
        "        'https://tfhub.dev/tensorflow/bert_en_uncased_preprocess/3',\n",
        "    'small_bert/bert_en_uncased_L-2_H-768_A-12':\n",
        "        'https://tfhub.dev/tensorflow/bert_en_uncased_preprocess/3',\n",
        "    'small_bert/bert_en_uncased_L-4_H-128_A-2':\n",
        "        'https://tfhub.dev/tensorflow/bert_en_uncased_preprocess/3',\n",
        "    'small_bert/bert_en_uncased_L-4_H-256_A-4':\n",
        "        'https://tfhub.dev/tensorflow/bert_en_uncased_preprocess/3',\n",
        "    'small_bert/bert_en_uncased_L-4_H-512_A-8':\n",
        "        'https://tfhub.dev/tensorflow/bert_en_uncased_preprocess/3',\n",
        "    'small_bert/bert_en_uncased_L-4_H-768_A-12':\n",
        "        'https://tfhub.dev/tensorflow/bert_en_uncased_preprocess/3',\n",
        "    'small_bert/bert_en_uncased_L-6_H-128_A-2':\n",
        "        'https://tfhub.dev/tensorflow/bert_en_uncased_preprocess/3',\n",
        "    'small_bert/bert_en_uncased_L-6_H-256_A-4':\n",
        "        'https://tfhub.dev/tensorflow/bert_en_uncased_preprocess/3',\n",
        "    'small_bert/bert_en_uncased_L-6_H-512_A-8':\n",
        "        'https://tfhub.dev/tensorflow/bert_en_uncased_preprocess/3',\n",
        "    'small_bert/bert_en_uncased_L-6_H-768_A-12':\n",
        "        'https://tfhub.dev/tensorflow/bert_en_uncased_preprocess/3',\n",
        "    'small_bert/bert_en_uncased_L-8_H-128_A-2':\n",
        "        'https://tfhub.dev/tensorflow/bert_en_uncased_preprocess/3',\n",
        "    'small_bert/bert_en_uncased_L-8_H-256_A-4':\n",
        "        'https://tfhub.dev/tensorflow/bert_en_uncased_preprocess/3',\n",
        "    'small_bert/bert_en_uncased_L-8_H-512_A-8':\n",
        "        'https://tfhub.dev/tensorflow/bert_en_uncased_preprocess/3',\n",
        "    'small_bert/bert_en_uncased_L-8_H-768_A-12':\n",
        "        'https://tfhub.dev/tensorflow/bert_en_uncased_preprocess/3',\n",
        "    'small_bert/bert_en_uncased_L-10_H-128_A-2':\n",
        "        'https://tfhub.dev/tensorflow/bert_en_uncased_preprocess/3',\n",
        "    'small_bert/bert_en_uncased_L-10_H-256_A-4':\n",
        "        'https://tfhub.dev/tensorflow/bert_en_uncased_preprocess/3',\n",
        "    'small_bert/bert_en_uncased_L-10_H-512_A-8':\n",
        "        'https://tfhub.dev/tensorflow/bert_en_uncased_preprocess/3',\n",
        "    'small_bert/bert_en_uncased_L-10_H-768_A-12':\n",
        "        'https://tfhub.dev/tensorflow/bert_en_uncased_preprocess/3',\n",
        "    'small_bert/bert_en_uncased_L-12_H-128_A-2':\n",
        "        'https://tfhub.dev/tensorflow/bert_en_uncased_preprocess/3',\n",
        "    'small_bert/bert_en_uncased_L-12_H-256_A-4':\n",
        "        'https://tfhub.dev/tensorflow/bert_en_uncased_preprocess/3',\n",
        "    'small_bert/bert_en_uncased_L-12_H-512_A-8':\n",
        "        'https://tfhub.dev/tensorflow/bert_en_uncased_preprocess/3',\n",
        "    'small_bert/bert_en_uncased_L-12_H-768_A-12':\n",
        "        'https://tfhub.dev/tensorflow/bert_en_uncased_preprocess/3',\n",
        "    'bert_multi_cased_L-12_H-768_A-12':\n",
        "        'https://tfhub.dev/tensorflow/bert_multi_cased_preprocess/3',\n",
        "    'albert_en_base':\n",
        "        'https://tfhub.dev/tensorflow/albert_en_preprocess/3',\n",
        "    'electra_small':\n",
        "        'https://tfhub.dev/tensorflow/bert_en_uncased_preprocess/3',\n",
        "    'electra_base':\n",
        "        'https://tfhub.dev/tensorflow/bert_en_uncased_preprocess/3',\n",
        "    'experts_pubmed':\n",
        "        'https://tfhub.dev/tensorflow/bert_en_uncased_preprocess/3',\n",
        "    'experts_wiki_books':\n",
        "        'https://tfhub.dev/tensorflow/bert_en_uncased_preprocess/3',\n",
        "    'talking-heads_base':\n",
        "        'https://tfhub.dev/tensorflow/bert_en_uncased_preprocess/3',\n",
        "}"
      ]
    },
    {
      "cell_type": "code",
      "execution_count": null,
      "metadata": {
        "colab": {
          "base_uri": "https://localhost:8080/"
        },
        "id": "UiGgDqMIxv7_",
        "outputId": "9b707f03-d3cf-4a04-a2a9-ccfb5aaffc45"
      },
      "outputs": [],
      "source": [
        "tfhub_handle_encoder = map_name_to_handle[bert_model_name]\n",
        "tfhub_handle_preprocess = map_model_to_preprocess[bert_model_name]\n",
        "print(f'BERT model selected           : {tfhub_handle_encoder}')\n",
        "print(f'Preprocess model auto-selected: {tfhub_handle_preprocess}')"
      ]
    },
    {
      "cell_type": "code",
      "execution_count": null,
      "metadata": {
        "id": "YPINMqdYx3ME"
      },
      "outputs": [],
      "source": [
        "bert_preprocess_model = hub.KerasLayer(tfhub_handle_preprocess)"
      ]
    },
    {
      "cell_type": "code",
      "execution_count": null,
      "metadata": {
        "colab": {
          "base_uri": "https://localhost:8080/"
        },
        "id": "6CvgsRBTx5GW",
        "outputId": "971cb255-9bd7-4c30-8b40-c9999c1eb4e3"
      },
      "outputs": [],
      "source": [
        "# Unbalanced dataset -> Need to define classweight to give into model\n",
        "weight_for_0 = (1 / hate)*(total)/3.0\n",
        "weight_for_1 = (1 / offensive)*(total)/3.0\n",
        "weight_for_2 = (1 / neither)*(total)/3.0\n",
        "\n",
        "# Defining classweight to give into the model\n",
        "class_weight = {0: weight_for_0, 1: weight_for_1, 2: weight_for_2}\n",
        "\n",
        "print('Weight for class 0: {:.2f}'.format(weight_for_0))\n",
        "print('Weight for class 1: {:.2f}'.format(weight_for_1))\n",
        "print('Weight for class 2: {:.2f}'.format(weight_for_2))"
      ]
    },
    {
      "cell_type": "markdown",
      "metadata": {
        "id": "eQRjAPOh_7jI"
      },
      "source": [
        "# BERT"
      ]
    },
    {
      "cell_type": "code",
      "execution_count": null,
      "metadata": {
        "id": "u94jzysksHdA"
      },
      "outputs": [],
      "source": [
        "def BERT_model():\n",
        "    # Input layer for raw text\n",
        "    text_in = tf.keras.layers.Input(shape=(), dtype=tf.string, name='text')\n",
        "\n",
        "    # Preprocessing layer using the BERT model (tokenization)\n",
        "    preprocess_layer = hub.KerasLayer(tfhub_handle_preprocess, name='preprocessing')\n",
        "    encoder_in = preprocess_layer(text_in)\n",
        "\n",
        "    # BERT encoder layer\n",
        "    encode = hub.KerasLayer(tfhub_handle_encoder, trainable=True, name='BERT_encoder')\n",
        "    outputs = encode(encoder_in)\n",
        "\n",
        "    # Extract pooled output from BERT\n",
        "    pooled_output = outputs['pooled_output']  # Shape: (batch_size, 768)\n",
        "\n",
        "    # Dropout layer for regularization\n",
        "    dropout = tf.keras.layers.Dropout(0.1)(pooled_output)\n",
        "\n",
        "    # Dense layer for final classification\n",
        "    classifier = tf.keras.layers.Dense(3, activation='softmax', name='classifier')(dropout)\n",
        "\n",
        "    # Create and return the model\n",
        "    model = tf.keras.Model(inputs=text_in, outputs=classifier)\n",
        "    return model"
      ]
    },
    {
      "cell_type": "code",
      "execution_count": null,
      "metadata": {
        "colab": {
          "base_uri": "https://localhost:8080/"
        },
        "id": "MxC3AQArsQbl",
        "outputId": "f1941bcd-8706-4740-efae-520b15060c0e"
      },
      "outputs": [],
      "source": [
        "# Building model\n",
        "bert_model = BERT_model()\n",
        "\n",
        "# Model summary\n",
        "bert_model.summary()\n"
      ]
    },
    {
      "cell_type": "code",
      "execution_count": null,
      "metadata": {
        "id": "z7LqIhwV_69V"
      },
      "outputs": [],
      "source": [
        "# Defining loss function\n",
        "loss = tf.keras.losses.SparseCategoricalCrossentropy(from_logits=True)\n",
        "\n",
        "# Fine-tuning and Training models\n",
        "epochs_count = 20\n",
        "steps_each_epoch = tf.data.experimental.cardinality(train_ds).numpy()\n",
        "number_of_training_steps = steps_each_epoch * epochs_count\n",
        "number_of_warmup_steps = int(0.1 * number_of_training_steps)\n",
        "init_lr = 2e-5\n",
        "\n",
        "# Creating optimizer\n",
        "optimizer = optimization.create_optimizer(init_lr=init_lr,\n",
        "                                          num_train_steps=number_of_training_steps,\n",
        "                                          num_warmup_steps=number_of_warmup_steps,\n",
        "                                          optimizer_type='adamw')"
      ]
    },
    {
      "cell_type": "code",
      "execution_count": null,
      "metadata": {
        "colab": {
          "base_uri": "https://localhost:8080/"
        },
        "id": "ltyQRbVnsagJ",
        "outputId": "3745fd70-96c0-46e6-95ae-02bd519f2961"
      },
      "outputs": [],
      "source": [
        "# Model compiling\n",
        "bert_model.compile(optimizer=optimizer,\n",
        "                   loss=tf.keras.losses.SparseCategoricalCrossentropy(from_logits=True),\n",
        "                   metrics=[tf.keras.metrics.SparseCategoricalAccuracy('accuracy')])\n",
        "\n",
        "print(f'Training model with {tfhub_handle_encoder}')"
      ]
    },
    {
      "cell_type": "code",
      "execution_count": null,
      "metadata": {
        "colab": {
          "base_uri": "https://localhost:8080/"
        },
        "id": "GVHSR3iUu-H5",
        "outputId": "c768e745-d6f6-4a01-9328-5ad3fd3b8499"
      },
      "outputs": [],
      "source": [
        "# Training model\n",
        "bert_history = bert_model.fit(train_ds,\n",
        "                              validation_data=val_ds,\n",
        "                              epochs=epochs_count,\n",
        "                              class_weight=class_weight)"
      ]
    },
    {
      "cell_type": "code",
      "execution_count": null,
      "metadata": {
        "id": "DAK9ehkox-Zc"
      },
      "outputs": [],
      "source": [
        "save_dir = '/gdrive/MyDrive/CS431/model'"
      ]
    },
    {
      "cell_type": "code",
      "execution_count": null,
      "metadata": {
        "colab": {
          "base_uri": "https://localhost:8080/"
        },
        "id": "CDTtyFcWug-m",
        "outputId": "9be7a296-b6a9-4040-cb4c-66193b6ff2bb"
      },
      "outputs": [],
      "source": [
        "# Saving BERT model\n",
        "bert_model.save(f\"{save_dir}/bert_model.h5\")\n",
        "print(\"Model saved as 'bert_model.h5' in\", save_dir)"
      ]
    },
    {
      "cell_type": "code",
      "execution_count": null,
      "metadata": {
        "colab": {
          "base_uri": "https://localhost:8080/",
          "height": 907
        },
        "id": "CGbB2QFCAOo3",
        "outputId": "a7428936-43da-4754-991c-8eee56a14b46"
      },
      "outputs": [],
      "source": [
        " # Creating graphs for accuracy and loss\n",
        " # Fining values\n",
        "history_dict = bert_history.history\n",
        "print(history_dict.keys())\n",
        "acc = history_dict['accuracy']\n",
        "val_acc = history_dict['val_accuracy']\n",
        "loss = history_dict['loss']\n",
        "val_loss = history_dict['val_loss']\n",
        "epochs = range(1, len(acc) + 1)\n",
        "\n",
        "# Defining figures\n",
        "fig = plt.figure(figsize=(12, 10))\n",
        "fig.tight_layout()\n",
        "# 1st figure\n",
        "plt.subplot(2, 1, 1)\n",
        "plt.plot(epochs, loss, 'r', label='Training-loss')\n",
        "plt.plot(epochs, val_loss, 'b', label='Validation-loss')\n",
        "plt.title('Training & validation Loss')\n",
        "plt.xlabel('Epochs-Count')\n",
        "plt.ylabel('Loss')\n",
        "plt.legend()\n",
        "# 2nd Figure\n",
        "plt.subplot(2, 1, 2)\n",
        "plt.plot(epochs, acc, 'r', label='Training-accuracy')\n",
        "plt.plot(epochs, val_acc, 'b', label='Validation-accuracy')\n",
        "plt.title('Training & Validation Accuracy')\n",
        "plt.xlabel('Epochs-Count')\n",
        "plt.ylabel('Acc')\n",
        "plt.legend(loc='lower right')"
      ]
    },
    {
      "cell_type": "code",
      "execution_count": null,
      "metadata": {
        "colab": {
          "base_uri": "https://localhost:8080/"
        },
        "id": "yOTRAPnFuobT",
        "outputId": "46b0eb7b-3dfa-46fe-e06e-8057b5ed24bd"
      },
      "outputs": [],
      "source": [
        "model_path = os.path.join(save_dir, 'bert_model.h5')\n",
        "bert_model.save(model_path)\n",
        "print(f\"Model saved to {model_path}\")"
      ]
    },
    {
      "cell_type": "code",
      "execution_count": null,
      "metadata": {
        "colab": {
          "base_uri": "https://localhost:8080/"
        },
        "id": "Qm3EMzgpuv2h",
        "outputId": "12958505-7713-46cb-c621-2101c4898dac"
      },
      "outputs": [],
      "source": [
        "# Predicting on test dataset\n",
        "text = []\n",
        "test_labels = []\n",
        "predictions = []\n",
        "for text, label in test_ds.take(-1):\n",
        "  text = text.numpy()\n",
        "  test_labels.append(label.numpy())\n",
        "  predictions.append(bert_model.predict(text))\n",
        "\n",
        "from itertools import chain\n",
        "flatten_list = list(chain.from_iterable(predictions))\n",
        "\n",
        "y_pred = np.argmax(flatten_list, axis=-1)\n",
        "y_test = np.array(list(chain.from_iterable(test_labels)))"
      ]
    },
    {
      "cell_type": "code",
      "execution_count": null,
      "metadata": {
        "colab": {
          "base_uri": "https://localhost:8080/"
        },
        "id": "FBWDX2Gkuxj9",
        "outputId": "ce0e9f77-8f3d-477a-8119-6b4dd0a35550"
      },
      "outputs": [],
      "source": [
        "print(classification_report(y_test, y_pred))"
      ]
    },
    {
      "cell_type": "code",
      "execution_count": null,
      "metadata": {
        "colab": {
          "base_uri": "https://localhost:8080/",
          "height": 564
        },
        "id": "Vc9S8mSvu1fv",
        "outputId": "1ef12133-3543-4853-df83-90270ca82865"
      },
      "outputs": [],
      "source": [
        "cm = confusion_matrix(y_test, y_pred)\n",
        "\n",
        "# Drawing Heatmap\n",
        "plt.figure(figsize=(8, 6))\n",
        "sns.heatmap(cm, annot=True, fmt='d', cmap='Blues', xticklabels=['Class 0', 'Class 1', 'Class 2'], yticklabels=['Class 0', 'Class 1', 'Class 2'])\n",
        "plt.xlabel('Predicted Label')\n",
        "plt.ylabel('True Label')\n",
        "plt.title('Confusion Matrix')\n",
        "plt.show()"
      ]
    },
    {
      "cell_type": "markdown",
      "metadata": {
        "id": "3FTuSpGGx60Z"
      },
      "source": [
        "## BERT + LSTM"
      ]
    },
    {
      "cell_type": "code",
      "execution_count": null,
      "metadata": {
        "id": "zsT8Myj6yFgr"
      },
      "outputs": [],
      "source": [
        "def BERT_LSTM_model():\n",
        "    # Input layer for raw text\n",
        "    text_in = tf.keras.layers.Input(shape=(), dtype=tf.string, name='text')\n",
        "\n",
        "    # Preprocessing layer using the BERT model (tokenization)\n",
        "    preprocess_layer = hub.KerasLayer(tfhub_handle_preprocess, name='preprocessing')\n",
        "    encoder_in = preprocess_layer(text_in)\n",
        "\n",
        "    # BERT encoder layer\n",
        "    encode = hub.KerasLayer(tfhub_handle_encoder, trainable=True, name='BERT_encoder')\n",
        "    outputs = encode(encoder_in)\n",
        "\n",
        "    # Extract sequence output from BERT\n",
        "    sequence_output = outputs['sequence_output']  # Shape: (batch_size, seq_length, 768)\n",
        "\n",
        "    # First LSTM layer\n",
        "    network_layer = tf.keras.layers.Bidirectional(\n",
        "        tf.keras.layers.LSTM(128, return_sequences=True, dropout=0.2, recurrent_dropout=0.0)\n",
        "    )(sequence_output)\n",
        "\n",
        "    # First Dropout after LSTM\n",
        "    network_layer = tf.keras.layers.Dropout(0.1)(network_layer)\n",
        "\n",
        "    # Second LSTM layer\n",
        "    network_layer = tf.keras.layers.Bidirectional(\n",
        "        tf.keras.layers.LSTM(128, return_sequences=False, dropout=0.2, recurrent_dropout=0.0)\n",
        "    )(network_layer)\n",
        "\n",
        "    # Second Dropout after LSTM\n",
        "    network_layer = tf.keras.layers.Dropout(0.1)(network_layer)\n",
        "\n",
        "    # Dense layer for final classification\n",
        "    network_layer = tf.keras.layers.Dense(3, activation='softmax', name='classifier')(network_layer)\n",
        "\n",
        "    # Create and return the model\n",
        "    model = tf.keras.Model(inputs=text_in, outputs=network_layer)\n",
        "    return model"
      ]
    },
    {
      "cell_type": "code",
      "execution_count": null,
      "metadata": {
        "id": "OtRQ4lAwyOYx"
      },
      "outputs": [],
      "source": [
        " # Building model\n",
        "lstm_model = BERT_LSTM_model()\n",
        " # Defining loss function\n",
        "loss = tf.keras.losses.SparseCategoricalCrossentropy(from_logits=True)"
      ]
    },
    {
      "cell_type": "code",
      "execution_count": null,
      "metadata": {
        "id": "a1c6Xs53yPpv"
      },
      "outputs": [],
      "source": [
        "lstm_model.summary()"
      ]
    },
    {
      "cell_type": "code",
      "execution_count": null,
      "metadata": {
        "id": "VLTFIg8LzDBy"
      },
      "outputs": [],
      "source": [
        "from official.nlp import optimization"
      ]
    },
    {
      "cell_type": "code",
      "execution_count": null,
      "metadata": {
        "id": "Jt0LlA-qybwq"
      },
      "outputs": [],
      "source": [
        "# Fine-tuning and Training models\n",
        "epochs_count = 20\n",
        "steps_each_epoch = tf.data.experimental.cardinality(train_ds).numpy()\n",
        "number_of_training_steps = steps_each_epoch * epochs_count\n",
        "number_of_warmup_steps = int(0.1*number_of_training_steps)\n",
        "init_lr = 2e-5\n",
        "\n",
        "# Creating_optimiser\n",
        "optimizer = optimization.create_optimizer(init_lr=init_lr,\n",
        "                                          num_train_steps=number_of_training_steps,\n",
        "                                          num_warmup_steps=number_of_warmup_steps,\n",
        "                                          optimizer_type='adamw')"
      ]
    },
    {
      "cell_type": "code",
      "execution_count": null,
      "metadata": {
        "id": "KCxKoM-ZyezF"
      },
      "outputs": [],
      "source": [
        "# Model Compiling\n",
        "lstm_model.compile(optimizer=optimizer,\n",
        "                          loss=tf.keras.losses.SparseCategoricalCrossentropy(from_logits=True),\n",
        "                          metrics=tf.keras.metrics.SparseCategoricalAccuracy('accuracy'))\n",
        "\n",
        "print(f'Training model with {tfhub_handle_encoder}')"
      ]
    },
    {
      "cell_type": "code",
      "execution_count": null,
      "metadata": {
        "id": "TlgjkzEOygA_"
      },
      "outputs": [],
      "source": [
        " # Training Model\n",
        "lstm_history = lstm_model.fit(x=train_ds,\n",
        "                             validation_data=val_ds,\n",
        "                             epochs=epochs_count,\n",
        "                             class_weight=class_weight)"
      ]
    },
    {
      "cell_type": "code",
      "execution_count": null,
      "metadata": {
        "id": "Ix4twqBzyhp_"
      },
      "outputs": [],
      "source": [
        "# Lưu mô hình LSTM\n",
        "lstm_model.save(f\"{save_dir}/bert_lstm_model.h5\")\n",
        "print(\"Model saved as 'bert_lstm_model.h5' in\", save_dir)"
      ]
    },
    {
      "cell_type": "code",
      "execution_count": null,
      "metadata": {
        "id": "ofOEbx2JymWW"
      },
      "outputs": [],
      "source": [
        "model_path = os.path.join(save_dir, 'bert_lstm_model.h5')\n",
        "lstm_model.save(model_path)\n",
        "print(f\"Model saved to {model_path}\")"
      ]
    },
    {
      "cell_type": "code",
      "execution_count": null,
      "metadata": {
        "id": "Cgp_BtYI-Nui"
      },
      "outputs": [],
      "source": [
        " # Creating graphs for accuracy and loss\n",
        " # Fining values\n",
        "history_dict = lstm_history.history\n",
        "print(history_dict.keys())\n",
        "acc = history_dict['accuracy']\n",
        "val_acc = history_dict['val_accuracy']\n",
        "loss = history_dict['loss']\n",
        "val_loss = history_dict['val_loss']\n",
        "epochs = range(1, len(acc) + 1)\n",
        "\n",
        "# Defining figures\n",
        "fig = plt.figure(figsize=(12, 10))\n",
        "fig.tight_layout()\n",
        "# 1st figure\n",
        "plt.subplot(2, 1, 1)\n",
        "plt.plot(epochs, loss, 'r', label='Training-loss')\n",
        "plt.plot(epochs, val_loss, 'b', label='Validation-loss')\n",
        "plt.title('Training & validation Loss')\n",
        "plt.xlabel('Epochs-Count')\n",
        "plt.ylabel('Loss')\n",
        "plt.legend()\n",
        "# 2nd Figure\n",
        "plt.subplot(2, 1, 2)\n",
        "plt.plot(epochs, acc, 'r', label='Training-accuracy')\n",
        "plt.plot(epochs, val_acc, 'b', label='Validation-accuracy')\n",
        "plt.title('Training & Validation Accuracy')\n",
        "plt.xlabel('Epochs-Count')\n",
        "plt.ylabel('Acc')\n",
        "plt.legend(loc='lower right')"
      ]
    },
    {
      "cell_type": "code",
      "execution_count": null,
      "metadata": {
        "id": "fOev3K2--T-H"
      },
      "outputs": [],
      "source": [
        "# Predicting on test dataset\n",
        "text = []\n",
        "test_labels = []\n",
        "predictions = []\n",
        "for text, label in test_ds.take(-1):\n",
        "  text = text.numpy()\n",
        "  test_labels.append(label.numpy())\n",
        "  predictions.append(lstm_model.predict(text))\n",
        "\n",
        "from itertools import chain\n",
        "flatten_list = list(chain.from_iterable(predictions))\n",
        "\n",
        "y_pred = np.argmax(flatten_list, axis=-1)\n",
        "y_test = np.array(list(chain.from_iterable(test_labels)))"
      ]
    },
    {
      "cell_type": "code",
      "execution_count": null,
      "metadata": {
        "id": "tx9xLMDT-cZ8"
      },
      "outputs": [],
      "source": [
        "print(classification_report(y_test, y_pred))"
      ]
    },
    {
      "cell_type": "code",
      "execution_count": null,
      "metadata": {
        "id": "7RV-ZMBo-eoe"
      },
      "outputs": [],
      "source": [
        "cm = confusion_matrix(y_test, y_pred)\n",
        "\n",
        "# Drawing Heatmap\n",
        "plt.figure(figsize=(8, 6))\n",
        "sns.heatmap(cm, annot=True, fmt='d', cmap='Blues', xticklabels=['Class 0', 'Class 1', 'Class 2'], yticklabels=['Class 0', 'Class 1', 'Class 2'])\n",
        "plt.xlabel('Predicted Label')\n",
        "plt.ylabel('True Label')\n",
        "plt.title('Confusion Matrix')\n",
        "plt.show()"
      ]
    },
    {
      "cell_type": "code",
      "execution_count": null,
      "metadata": {
        "id": "Ge7KyTYk-wBP"
      },
      "outputs": [],
      "source": [
        "def predict_lstm(text):\n",
        "    prediction = lstm_model.predict([text])\n",
        "    predicted_class = np.argmax(prediction, axis=-1)\n",
        "#     if predicted_class == '0':\n",
        "#       return 'Hate'\n",
        "#     elif predicted_class == '1':\n",
        "#       return 'Offensive'\n",
        "#     else:\n",
        "#       return 'Neither'\n",
        "    return predicted_class[0]"
      ]
    },
    {
      "cell_type": "markdown",
      "metadata": {
        "id": "qElb1kuFXwdC"
      },
      "source": [
        "## BERT + CNN\n"
      ]
    },
    {
      "cell_type": "code",
      "execution_count": null,
      "metadata": {
        "id": "eDWfVANHXzKA"
      },
      "outputs": [],
      "source": [
        "# Define CNN model architecture\n",
        "def CNN_model():\n",
        "    # Input layer for text\n",
        "    text_in = tf.keras.layers.Input(shape=(), dtype=tf.string, name='text')\n",
        "\n",
        "    # Preprocessing layer using a BERT model\n",
        "    preprocess_layer = hub.KerasLayer(tfhub_handle_preprocess, name='preprocessing')\n",
        "    encoder_in = preprocess_layer(text_in)\n",
        "\n",
        "    # BERT encoder layer\n",
        "    encode = hub.KerasLayer(tfhub_handle_encoder, trainable=True, name='BERT_encoder')\n",
        "    outputs = encode(encoder_in)\n",
        "\n",
        "    # Extract sequence output from BERT\n",
        "    network_layer = sequence_output = outputs[\"sequence_output\"]\n",
        "\n",
        "    # Add CNN layers\n",
        "    network_layer = tf.keras.layers.Conv1D(64, 3, activation='relu', padding='same')(network_layer)  # CNN Layer 1\n",
        "    network_layer = tf.keras.layers.MaxPooling1D(pool_size=2)(network_layer)  # MaxPooling Layer 1\n",
        "\n",
        "    network_layer = tf.keras.layers.Conv1D(128, 3, activation='relu', padding='same')(network_layer)  # CNN Layer 2\n",
        "    network_layer = tf.keras.layers.MaxPooling1D(pool_size=2)(network_layer)  # MaxPooling Layer 2\n",
        "\n",
        "    # Add additional CNN + MaxPooling layers\n",
        "    network_layer = tf.keras.layers.Conv1D(256, 3, activation='relu', padding='same')(network_layer)  # CNN Layer 3\n",
        "    network_layer = tf.keras.layers.MaxPooling1D(pool_size=2)(network_layer)  # MaxPooling Layer 3\n",
        "\n",
        "    # Global MaxPooling Layer\n",
        "    network_layer = tf.keras.layers.GlobalMaxPool1D()(network_layer)\n",
        "\n",
        "    # Add fully connected layers\n",
        "    network_layer = tf.keras.layers.Dense(512, activation=\"relu\")(network_layer)  # Dense Layer 1\n",
        "    network_layer = tf.keras.layers.Dropout(0.3)(network_layer)  # Dropout Layer 1\n",
        "\n",
        "    network_layer = tf.keras.layers.Dense(256, activation=\"relu\")(network_layer)  # Dense Layer 2\n",
        "    network_layer = tf.keras.layers.Dropout(0.3)(network_layer)  # Dropout Layer 2\n",
        "\n",
        "    # Final classification layer\n",
        "    network_layer = tf.keras.layers.Dense(3, activation=\"softmax\", name='classifier')(network_layer)\n",
        "\n",
        "    # Create and return the model\n",
        "    model = tf.keras.Model(inputs=text_in, outputs=network_layer)\n",
        "    return model"
      ]
    },
    {
      "cell_type": "code",
      "execution_count": null,
      "metadata": {
        "id": "mI6_UEcGX6bV"
      },
      "outputs": [],
      "source": [
        "# Building model\n",
        "cnn_model = CNN_model()\n",
        "# Defining loss function\n",
        "loss = tf.keras.losses.SparseCategoricalCrossentropy(from_logits=True)"
      ]
    },
    {
      "cell_type": "code",
      "execution_count": null,
      "metadata": {
        "id": "nXj0H2EzYAIX"
      },
      "outputs": [],
      "source": [
        "cnn_model.summary()"
      ]
    },
    {
      "cell_type": "code",
      "execution_count": null,
      "metadata": {
        "id": "4aRE91l5YB1v"
      },
      "outputs": [],
      "source": [
        "# Fine-tuning and Training models\n",
        "epochs_count = 20\n",
        "steps_each_epoch = tf.data.experimental.cardinality(train_ds).numpy()\n",
        "number_of_training_steps = steps_each_epoch * epochs_count\n",
        "number_of_warmup_steps = int(0.1*number_of_training_steps)\n",
        "init_lr = 2e-5\n",
        "\n",
        "# Creating_optimiser\n",
        "optimizer = optimization.create_optimizer(init_lr=init_lr,\n",
        "                                          num_train_steps=number_of_training_steps,\n",
        "                                          num_warmup_steps=number_of_warmup_steps,\n",
        "                                          optimizer_type='adamw')"
      ]
    },
    {
      "cell_type": "code",
      "execution_count": null,
      "metadata": {
        "id": "bbUxXGgyYEUZ"
      },
      "outputs": [],
      "source": [
        "# Model Compiling\n",
        "cnn_model.compile(optimizer=optimizer,\n",
        "                          loss=tf.keras.losses.SparseCategoricalCrossentropy(from_logits=True),\n",
        "                          metrics=tf.keras.metrics.SparseCategoricalAccuracy('accuracy'))\n",
        "\n",
        "print(f'Training model with {tfhub_handle_encoder}')"
      ]
    },
    {
      "cell_type": "code",
      "execution_count": null,
      "metadata": {
        "id": "jvMsW00WYIHf"
      },
      "outputs": [],
      "source": [
        "# Training Model\n",
        "cnn_history = cnn_model.fit(x=train_ds,\n",
        "                            validation_data=val_ds,\n",
        "                            epochs=epochs_count,\n",
        "                            class_weight=class_weight)"
      ]
    },
    {
      "cell_type": "code",
      "execution_count": null,
      "metadata": {
        "id": "6urvq6VEYS--"
      },
      "outputs": [],
      "source": [
        "model_path = os.path.join(save_dir, 'bert_cnn_model.h5')\n",
        "cnn_model.save(model_path)\n",
        "print(f\"Model saved to {model_path}\")"
      ]
    },
    {
      "cell_type": "code",
      "execution_count": null,
      "metadata": {
        "id": "YwrhsnSzYU2R"
      },
      "outputs": [],
      "source": [
        "# Creating graphs for accuracy and loss\n",
        "# Fining values\n",
        "history_dict = cnn_history.history\n",
        "print(history_dict.keys())\n",
        "acc = history_dict['accuracy']\n",
        "val_acc = history_dict['val_accuracy']\n",
        "loss = history_dict['loss']\n",
        "val_loss = history_dict['val_loss']\n",
        "epochs = range(1, len(acc) + 1)\n",
        "\n",
        "# Defining figures\n",
        "fig = plt.figure(figsize=(12, 10))\n",
        "fig.tight_layout()\n",
        "# 1st figure\n",
        "plt.subplot(2, 1, 1)\n",
        "plt.plot(epochs, loss, 'r', label='Training-loss')\n",
        "plt.plot(epochs, val_loss, 'b', label='Validation-loss')\n",
        "plt.title('Training & validation Loss')\n",
        "plt.xlabel('Epochs-Count')\n",
        "plt.ylabel('Loss')\n",
        "plt.legend()\n",
        "# 2nd Figure\n",
        "plt.subplot(2, 1, 2)\n",
        "plt.plot(epochs, acc, 'r', label='Training-accuracy')\n",
        "plt.plot(epochs, val_acc, 'b', label='Validation-accuracy')\n",
        "plt.title('Training & Validation Accuracy')\n",
        "plt.xlabel('Epochs-Count')\n",
        "plt.ylabel('Acc')\n",
        "plt.legend(loc='lower right')"
      ]
    },
    {
      "cell_type": "code",
      "execution_count": null,
      "metadata": {
        "id": "bSnLqMIKYWdJ"
      },
      "outputs": [],
      "source": [
        "# Predicting on test dataset\n",
        "text = []\n",
        "test_labels = []\n",
        "predictions = []\n",
        "for text, label in test_ds.take(-1):\n",
        "  text = text.numpy()\n",
        "  test_labels.append(label.numpy())\n",
        "  predictions.append(cnn_model.predict(text))\n",
        "\n",
        "from itertools import chain\n",
        "flatten_list = list(chain.from_iterable(predictions))\n",
        "\n",
        "y_pred = np.argmax(flatten_list, axis=-1)\n",
        "y_test = np.array(list(chain.from_iterable(test_labels)))\n"
      ]
    },
    {
      "cell_type": "code",
      "execution_count": null,
      "metadata": {
        "id": "-yAfwtLgYYgN"
      },
      "outputs": [],
      "source": [
        "print(classification_report(y_test, y_pred))"
      ]
    },
    {
      "cell_type": "code",
      "execution_count": null,
      "metadata": {
        "id": "4SIj3o-PYbb5"
      },
      "outputs": [],
      "source": [
        "import seaborn as sns\n",
        "import matplotlib.pyplot as plt\n",
        "from sklearn.metrics import confusion_matrix\n",
        "\n",
        "cm = confusion_matrix(y_test, y_pred)\n",
        "\n",
        "# Drawing Heatmap\n",
        "plt.figure(figsize=(8, 6))\n",
        "sns.heatmap(cm, annot=True, fmt='d', cmap='Blues', xticklabels=['Class 0', 'Class 1', 'Class 2'], yticklabels=['Class 0', 'Class 1', 'Class 2'])\n",
        "plt.xlabel('Predicted Label')\n",
        "plt.ylabel('True Label')\n",
        "plt.title('Confusion Matrix')\n",
        "plt.show()"
      ]
    },
    {
      "cell_type": "markdown",
      "metadata": {
        "id": "puYul_iZRLyW"
      },
      "source": [
        "# Upload models to hugging face"
      ]
    },
    {
      "cell_type": "code",
      "execution_count": null,
      "metadata": {
        "colab": {
          "base_uri": "https://localhost:8080/"
        },
        "id": "SpFu9JoKGBEj",
        "outputId": "cdff8ed9-0827-4a4f-83f4-64182d455340"
      },
      "outputs": [],
      "source": [
        "!pip install huggingface_hub"
      ]
    },
    {
      "cell_type": "code",
      "execution_count": null,
      "metadata": {
        "id": "3Ae8MyJ0GRH_"
      },
      "outputs": [],
      "source": [
        "from huggingface_hub import login\n",
        "from transformers import TFAutoModelForSequenceClassification, AutoTokenizer\n",
        "# login(token=\"\") # Your HF's token here"
      ]
    },
    {
      "cell_type": "code",
      "execution_count": null,
      "metadata": {
        "id": "t2GTTKmFGnzr"
      },
      "outputs": [],
      "source": [
        "import tensorflow as tf\n",
        "from huggingface_hub import HfApi, HfFolder, Repository, create_repo, login"
      ]
    },
    {
      "cell_type": "code",
      "execution_count": null,
      "metadata": {
        "id": "Ft49YyCMGrvg"
      },
      "outputs": [],
      "source": [
        "# # Tên repository của bạn trên Hugging Face\n",
        "# repo_name_lstm_and_cnn = \"bert_lstm_and_bert_cnn_model\"  # Đặt tên repo\n",
        "# create_repo(repo_name_lstm_and_cnn, exist_ok=True)"
      ]
    },
    {
      "cell_type": "code",
      "execution_count": null,
      "metadata": {
        "id": "37anlOFqKIQm"
      },
      "outputs": [],
      "source": [
        "from huggingface_hub import upload_folder"
      ]
    },
    {
      "cell_type": "code",
      "execution_count": null,
      "metadata": {
        "colab": {
          "base_uri": "https://localhost:8080/",
          "height": 269,
          "referenced_widgets": [
            "0ddf98727709414587b8056a866a3480",
            "13a3e06f87e842c9993db2470252854b",
            "c7c5b2c6c7bd4c689586cc4f961b3fb7",
            "32ab94330b924def92898b1ddbbc90cb",
            "e4648bb0e6734902bde8170cb2e8048e",
            "eec8df2cb33e4483b5d8fc796cb5f17c",
            "9cfe212b91ab483ba4bdacd3baec92ff",
            "6d2fb4f84ed74017bf34d22aea40062f",
            "60eeabcb0c5a4b71a959f2acc4fd5f28",
            "7ab54ba23f43419f9dd3733e14560a1a",
            "b25c0e0913d542f2ae16f95ddf14bcd3",
            "a878354b388a4cb8999fc9c25f0f1bd6",
            "ebae0d7803af4a6daf0695c6ae826ae5",
            "9ed5dbffd4ee4a65bccb67c01baed101",
            "6ba03ecffba24d5bb5de9006e149a9ce",
            "6ee2154e83eb4f069cf33122d343a6e8",
            "65caa98e486948d68c8caa096fad1c21",
            "8f10e71072d549a98742b179283fe38e",
            "76629d45633d44d8b10010e6f66c44e5",
            "177e634aa2db41f9b0e957ffad20ccfa",
            "f3451ca17fc242eea15568018a009738",
            "8734abfa8a614a62874ebf60d4c77104",
            "ae0621c243fd45a397db5ddc7cb84a84",
            "3edae19779cc4c94854d51353819352d",
            "83a0e2a626ca441988eef97aa18d5ce7",
            "56e4111d827b49cba12c6caa8a3a604f",
            "01d1361582434186866ad540850feb25",
            "4c277b3033504f89b3361a4abbee1cee",
            "ba0fc3e4f9ee4b38901e2297c2210043",
            "23882b82ac234f6ba917c01b771310ea",
            "52505377ffee4b7482713a9f3c1aff62",
            "9b0da374f2e44773ab023664bcabaf1b",
            "8f9e96a354d54ff7b7e42e7ea4ebe2ef"
          ]
        },
        "id": "G5Uoysj6G0KM",
        "outputId": "64db737c-b09f-49dc-a63e-336109f9e39b"
      },
      "outputs": [],
      "source": [
        "# Đường dẫn thư mục mô hình BERT + LSTM và BERT + CNN\n",
        "model_path_lstm_and_cnn = \"/gdrive/MyDrive/CS431/model\"\n",
        "\n",
        "# Upload mô hình lên Hugging Face\n",
        "upload_folder(\n",
        "    folder_path=model_path_lstm_and_cnn,\n",
        "    # repo_id=\"VinhKHMT/bert_lstm_model\",  # Thay thế với tên repo của bạn\n",
        "    repo_id=\"DinhVu/bert_lstm_and_bert_cnn_model\",\n",
        "    commit_message=\"Initial commit BERT + LSTM and BERT + LSTM + BERT-based\",\n",
        ")"
      ]
    },
    {
      "cell_type": "markdown",
      "metadata": {
        "id": "WA2biW7qQi2-"
      },
      "source": [
        "# Demo\n"
      ]
    },
    {
      "cell_type": "code",
      "execution_count": null,
      "metadata": {
        "id": "9KEOKQ88j4Au"
      },
      "outputs": [],
      "source": [
        "from official.nlp.optimization import AdamWeightDecay, WarmUp\n",
        "\n",
        "with tf.keras.utils.custom_object_scope({\n",
        "    'KerasLayer': hub.KerasLayer,\n",
        "    'AdamWeightDecay': AdamWeightDecay,\n",
        "    'WarmUp': WarmUp\n",
        "}):\n",
        "    cnn_model = tf.keras.models.load_model('/gdrive/MyDrive/CS431/model/bert_lstm_model_3.h5')"
      ]
    },
    {
      "cell_type": "code",
      "execution_count": null,
      "metadata": {
        "id": "x451dGUIUGV8"
      },
      "outputs": [],
      "source": [
        "from official.nlp.optimization import AdamWeightDecay, WarmUp\n",
        "\n",
        "with tf.keras.utils.custom_object_scope({\n",
        "    'KerasLayer': hub.KerasLayer,\n",
        "    'AdamWeightDecay': AdamWeightDecay,\n",
        "    'WarmUp': WarmUp\n",
        "}):\n",
        "    lstm_model = tf.keras.models.load_model('/gdrive/MyDrive/CS431/model/bert_lstm_model.h5')\n"
      ]
    },
    {
      "cell_type": "code",
      "execution_count": null,
      "metadata": {
        "id": "G8LkVy1sSCkb"
      },
      "outputs": [],
      "source": [
        "def predict_lstm(text):\n",
        "    prediction = lstm_model.predict([text])\n",
        "    predicted_class = np.argmax(prediction, axis=-1)\n",
        "#     if predicted_class == '0':\n",
        "#       return 'Hate'\n",
        "#     elif predicted_class == '1':\n",
        "#       return 'Offensive'\n",
        "#     else:\n",
        "#       return 'Neither'\n",
        "    return predicted_class[0]"
      ]
    },
    {
      "cell_type": "code",
      "execution_count": null,
      "metadata": {
        "id": "A2yxmjPkjuCX"
      },
      "outputs": [],
      "source": [
        "def predict_cnn(text):\n",
        "    prediction = lstm_model.predict([text])\n",
        "    predicted_class = np.argmax(prediction, axis=-1)\n",
        "#     if predicted_class == '0':\n",
        "#       return 'Hate'\n",
        "#     elif predicted_class == '1':\n",
        "#       return 'Offensive'\n",
        "#     else:\n",
        "#       return 'Neither'\n",
        "    return predicted_class[0]"
      ]
    },
    {
      "cell_type": "code",
      "execution_count": null,
      "metadata": {
        "id": "UoAOwMiemd8Z"
      },
      "outputs": [],
      "source": [
        "q# Giao diện cho mô hình CNN\n",
        "iface_cnn = gr.Interface(\n",
        "    fn=predict_cnn,  # Hàm dự đoán CNN\n",
        "    inputs=\"text\",  # Input là văn bản\n",
        "    outputs=\"text\",  # Output hiển thị lớp dự đoán\n",
        "    title=\"BERT + CNN Model\",\n",
        "    description=\"Dự đoán lớp văn bản (0: Hate, 1: Offensive, 2: Neither) sử dụng mô hình BERT + CNN.\",\n",
        "    live=True\n",
        ")\n",
        "\n",
        "# Giao diện cho mô hình LSTM\n",
        "iface_lstm = gr.Interface(\n",
        "    fn=predict_lstm,  # Hàm dự đoán LSTM\n",
        "    inputs=\"text\",  # Input là văn bản\n",
        "    outputs=\"text\",  # Output hiển thị lớp dự đoán\n",
        "    title=\"BERT + LSTM Model\",\n",
        "    description=\"Dự đoán lớp văn bản (0: Hate, 1: Offensive, 2: Neither) sử dụng mô hình BERT + LSTM.\",\n",
        "    live=True\n",
        ")\n",
        "\n",
        "# Chạy cả hai giao diện riêng biệt\n",
        "iface_cnn.launch()\n",
        "iface_lstm.launch()\n"
      ]
    }
  ],
  "metadata": {
    "accelerator": "GPU",
    "colab": {
      "collapsed_sections": [
        "go0FYypKwFdx",
        "mUDMdmWixPq3",
        "bgkX5D86xWLw",
        "V0kEj4VfxdRI",
        "IvRD_MDwxtSm",
        "qElb1kuFXwdC",
        "WA2biW7qQi2-"
      ],
      "gpuType": "T4",
      "provenance": []
    },
    "kernelspec": {
      "display_name": "Python 3",
      "name": "python3"
    },
    "language_info": {
      "name": "python"
    },
    "widgets": {
      "application/vnd.jupyter.widget-state+json": {
        "01d1361582434186866ad540850feb25": {
          "model_module": "@jupyter-widgets/base",
          "model_module_version": "1.2.0",
          "model_name": "LayoutModel",
          "state": {
            "_model_module": "@jupyter-widgets/base",
            "_model_module_version": "1.2.0",
            "_model_name": "LayoutModel",
            "_view_count": null,
            "_view_module": "@jupyter-widgets/base",
            "_view_module_version": "1.2.0",
            "_view_name": "LayoutView",
            "align_content": null,
            "align_items": null,
            "align_self": null,
            "border": null,
            "bottom": null,
            "display": null,
            "flex": null,
            "flex_flow": null,
            "grid_area": null,
            "grid_auto_columns": null,
            "grid_auto_flow": null,
            "grid_auto_rows": null,
            "grid_column": null,
            "grid_gap": null,
            "grid_row": null,
            "grid_template_areas": null,
            "grid_template_columns": null,
            "grid_template_rows": null,
            "height": null,
            "justify_content": null,
            "justify_items": null,
            "left": null,
            "margin": null,
            "max_height": null,
            "max_width": null,
            "min_height": null,
            "min_width": null,
            "object_fit": null,
            "object_position": null,
            "order": null,
            "overflow": null,
            "overflow_x": null,
            "overflow_y": null,
            "padding": null,
            "right": null,
            "top": null,
            "visibility": null,
            "width": null
          }
        },
        "0ddf98727709414587b8056a866a3480": {
          "model_module": "@jupyter-widgets/controls",
          "model_module_version": "1.5.0",
          "model_name": "HBoxModel",
          "state": {
            "_dom_classes": [],
            "_model_module": "@jupyter-widgets/controls",
            "_model_module_version": "1.5.0",
            "_model_name": "HBoxModel",
            "_view_count": null,
            "_view_module": "@jupyter-widgets/controls",
            "_view_module_version": "1.5.0",
            "_view_name": "HBoxView",
            "box_style": "",
            "children": [
              "IPY_MODEL_13a3e06f87e842c9993db2470252854b",
              "IPY_MODEL_c7c5b2c6c7bd4c689586cc4f961b3fb7",
              "IPY_MODEL_32ab94330b924def92898b1ddbbc90cb"
            ],
            "layout": "IPY_MODEL_e4648bb0e6734902bde8170cb2e8048e"
          }
        },
        "13a3e06f87e842c9993db2470252854b": {
          "model_module": "@jupyter-widgets/controls",
          "model_module_version": "1.5.0",
          "model_name": "HTMLModel",
          "state": {
            "_dom_classes": [],
            "_model_module": "@jupyter-widgets/controls",
            "_model_module_version": "1.5.0",
            "_model_name": "HTMLModel",
            "_view_count": null,
            "_view_module": "@jupyter-widgets/controls",
            "_view_module_version": "1.5.0",
            "_view_name": "HTMLView",
            "description": "",
            "description_tooltip": null,
            "layout": "IPY_MODEL_eec8df2cb33e4483b5d8fc796cb5f17c",
            "placeholder": "​",
            "style": "IPY_MODEL_9cfe212b91ab483ba4bdacd3baec92ff",
            "value": "bert_model.h5: 100%"
          }
        },
        "177e634aa2db41f9b0e957ffad20ccfa": {
          "model_module": "@jupyter-widgets/controls",
          "model_module_version": "1.5.0",
          "model_name": "ProgressStyleModel",
          "state": {
            "_model_module": "@jupyter-widgets/controls",
            "_model_module_version": "1.5.0",
            "_model_name": "ProgressStyleModel",
            "_view_count": null,
            "_view_module": "@jupyter-widgets/base",
            "_view_module_version": "1.2.0",
            "_view_name": "StyleView",
            "bar_color": null,
            "description_width": ""
          }
        },
        "23882b82ac234f6ba917c01b771310ea": {
          "model_module": "@jupyter-widgets/base",
          "model_module_version": "1.2.0",
          "model_name": "LayoutModel",
          "state": {
            "_model_module": "@jupyter-widgets/base",
            "_model_module_version": "1.2.0",
            "_model_name": "LayoutModel",
            "_view_count": null,
            "_view_module": "@jupyter-widgets/base",
            "_view_module_version": "1.2.0",
            "_view_name": "LayoutView",
            "align_content": null,
            "align_items": null,
            "align_self": null,
            "border": null,
            "bottom": null,
            "display": null,
            "flex": null,
            "flex_flow": null,
            "grid_area": null,
            "grid_auto_columns": null,
            "grid_auto_flow": null,
            "grid_auto_rows": null,
            "grid_column": null,
            "grid_gap": null,
            "grid_row": null,
            "grid_template_areas": null,
            "grid_template_columns": null,
            "grid_template_rows": null,
            "height": null,
            "justify_content": null,
            "justify_items": null,
            "left": null,
            "margin": null,
            "max_height": null,
            "max_width": null,
            "min_height": null,
            "min_width": null,
            "object_fit": null,
            "object_position": null,
            "order": null,
            "overflow": null,
            "overflow_x": null,
            "overflow_y": null,
            "padding": null,
            "right": null,
            "top": null,
            "visibility": null,
            "width": null
          }
        },
        "32ab94330b924def92898b1ddbbc90cb": {
          "model_module": "@jupyter-widgets/controls",
          "model_module_version": "1.5.0",
          "model_name": "HTMLModel",
          "state": {
            "_dom_classes": [],
            "_model_module": "@jupyter-widgets/controls",
            "_model_module_version": "1.5.0",
            "_model_name": "HTMLModel",
            "_view_count": null,
            "_view_module": "@jupyter-widgets/controls",
            "_view_module_version": "1.5.0",
            "_view_name": "HTMLView",
            "description": "",
            "description_tooltip": null,
            "layout": "IPY_MODEL_7ab54ba23f43419f9dd3733e14560a1a",
            "placeholder": "​",
            "style": "IPY_MODEL_b25c0e0913d542f2ae16f95ddf14bcd3",
            "value": " 52.8M/52.8M [00:02&lt;00:00, 31.9MB/s]"
          }
        },
        "3edae19779cc4c94854d51353819352d": {
          "model_module": "@jupyter-widgets/controls",
          "model_module_version": "1.5.0",
          "model_name": "HTMLModel",
          "state": {
            "_dom_classes": [],
            "_model_module": "@jupyter-widgets/controls",
            "_model_module_version": "1.5.0",
            "_model_name": "HTMLModel",
            "_view_count": null,
            "_view_module": "@jupyter-widgets/controls",
            "_view_module_version": "1.5.0",
            "_view_name": "HTMLView",
            "description": "",
            "description_tooltip": null,
            "layout": "IPY_MODEL_4c277b3033504f89b3361a4abbee1cee",
            "placeholder": "​",
            "style": "IPY_MODEL_ba0fc3e4f9ee4b38901e2297c2210043",
            "value": "Upload 2 LFS files: 100%"
          }
        },
        "4c277b3033504f89b3361a4abbee1cee": {
          "model_module": "@jupyter-widgets/base",
          "model_module_version": "1.2.0",
          "model_name": "LayoutModel",
          "state": {
            "_model_module": "@jupyter-widgets/base",
            "_model_module_version": "1.2.0",
            "_model_name": "LayoutModel",
            "_view_count": null,
            "_view_module": "@jupyter-widgets/base",
            "_view_module_version": "1.2.0",
            "_view_name": "LayoutView",
            "align_content": null,
            "align_items": null,
            "align_self": null,
            "border": null,
            "bottom": null,
            "display": null,
            "flex": null,
            "flex_flow": null,
            "grid_area": null,
            "grid_auto_columns": null,
            "grid_auto_flow": null,
            "grid_auto_rows": null,
            "grid_column": null,
            "grid_gap": null,
            "grid_row": null,
            "grid_template_areas": null,
            "grid_template_columns": null,
            "grid_template_rows": null,
            "height": null,
            "justify_content": null,
            "justify_items": null,
            "left": null,
            "margin": null,
            "max_height": null,
            "max_width": null,
            "min_height": null,
            "min_width": null,
            "object_fit": null,
            "object_position": null,
            "order": null,
            "overflow": null,
            "overflow_x": null,
            "overflow_y": null,
            "padding": null,
            "right": null,
            "top": null,
            "visibility": null,
            "width": null
          }
        },
        "52505377ffee4b7482713a9f3c1aff62": {
          "model_module": "@jupyter-widgets/controls",
          "model_module_version": "1.5.0",
          "model_name": "ProgressStyleModel",
          "state": {
            "_model_module": "@jupyter-widgets/controls",
            "_model_module_version": "1.5.0",
            "_model_name": "ProgressStyleModel",
            "_view_count": null,
            "_view_module": "@jupyter-widgets/base",
            "_view_module_version": "1.2.0",
            "_view_name": "StyleView",
            "bar_color": null,
            "description_width": ""
          }
        },
        "56e4111d827b49cba12c6caa8a3a604f": {
          "model_module": "@jupyter-widgets/controls",
          "model_module_version": "1.5.0",
          "model_name": "HTMLModel",
          "state": {
            "_dom_classes": [],
            "_model_module": "@jupyter-widgets/controls",
            "_model_module_version": "1.5.0",
            "_model_name": "HTMLModel",
            "_view_count": null,
            "_view_module": "@jupyter-widgets/controls",
            "_view_module_version": "1.5.0",
            "_view_name": "HTMLView",
            "description": "",
            "description_tooltip": null,
            "layout": "IPY_MODEL_9b0da374f2e44773ab023664bcabaf1b",
            "placeholder": "​",
            "style": "IPY_MODEL_8f9e96a354d54ff7b7e42e7ea4ebe2ef",
            "value": " 2/2 [00:03&lt;00:00,  3.51s/it]"
          }
        },
        "60eeabcb0c5a4b71a959f2acc4fd5f28": {
          "model_module": "@jupyter-widgets/controls",
          "model_module_version": "1.5.0",
          "model_name": "ProgressStyleModel",
          "state": {
            "_model_module": "@jupyter-widgets/controls",
            "_model_module_version": "1.5.0",
            "_model_name": "ProgressStyleModel",
            "_view_count": null,
            "_view_module": "@jupyter-widgets/base",
            "_view_module_version": "1.2.0",
            "_view_name": "StyleView",
            "bar_color": null,
            "description_width": ""
          }
        },
        "65caa98e486948d68c8caa096fad1c21": {
          "model_module": "@jupyter-widgets/base",
          "model_module_version": "1.2.0",
          "model_name": "LayoutModel",
          "state": {
            "_model_module": "@jupyter-widgets/base",
            "_model_module_version": "1.2.0",
            "_model_name": "LayoutModel",
            "_view_count": null,
            "_view_module": "@jupyter-widgets/base",
            "_view_module_version": "1.2.0",
            "_view_name": "LayoutView",
            "align_content": null,
            "align_items": null,
            "align_self": null,
            "border": null,
            "bottom": null,
            "display": null,
            "flex": null,
            "flex_flow": null,
            "grid_area": null,
            "grid_auto_columns": null,
            "grid_auto_flow": null,
            "grid_auto_rows": null,
            "grid_column": null,
            "grid_gap": null,
            "grid_row": null,
            "grid_template_areas": null,
            "grid_template_columns": null,
            "grid_template_rows": null,
            "height": null,
            "justify_content": null,
            "justify_items": null,
            "left": null,
            "margin": null,
            "max_height": null,
            "max_width": null,
            "min_height": null,
            "min_width": null,
            "object_fit": null,
            "object_position": null,
            "order": null,
            "overflow": null,
            "overflow_x": null,
            "overflow_y": null,
            "padding": null,
            "right": null,
            "top": null,
            "visibility": null,
            "width": null
          }
        },
        "6ba03ecffba24d5bb5de9006e149a9ce": {
          "model_module": "@jupyter-widgets/controls",
          "model_module_version": "1.5.0",
          "model_name": "HTMLModel",
          "state": {
            "_dom_classes": [],
            "_model_module": "@jupyter-widgets/controls",
            "_model_module_version": "1.5.0",
            "_model_name": "HTMLModel",
            "_view_count": null,
            "_view_module": "@jupyter-widgets/controls",
            "_view_module_version": "1.5.0",
            "_view_name": "HTMLView",
            "description": "",
            "description_tooltip": null,
            "layout": "IPY_MODEL_f3451ca17fc242eea15568018a009738",
            "placeholder": "​",
            "style": "IPY_MODEL_8734abfa8a614a62874ebf60d4c77104",
            "value": " 60.7M/60.7M [00:03&lt;00:00, 13.1MB/s]"
          }
        },
        "6d2fb4f84ed74017bf34d22aea40062f": {
          "model_module": "@jupyter-widgets/base",
          "model_module_version": "1.2.0",
          "model_name": "LayoutModel",
          "state": {
            "_model_module": "@jupyter-widgets/base",
            "_model_module_version": "1.2.0",
            "_model_name": "LayoutModel",
            "_view_count": null,
            "_view_module": "@jupyter-widgets/base",
            "_view_module_version": "1.2.0",
            "_view_name": "LayoutView",
            "align_content": null,
            "align_items": null,
            "align_self": null,
            "border": null,
            "bottom": null,
            "display": null,
            "flex": null,
            "flex_flow": null,
            "grid_area": null,
            "grid_auto_columns": null,
            "grid_auto_flow": null,
            "grid_auto_rows": null,
            "grid_column": null,
            "grid_gap": null,
            "grid_row": null,
            "grid_template_areas": null,
            "grid_template_columns": null,
            "grid_template_rows": null,
            "height": null,
            "justify_content": null,
            "justify_items": null,
            "left": null,
            "margin": null,
            "max_height": null,
            "max_width": null,
            "min_height": null,
            "min_width": null,
            "object_fit": null,
            "object_position": null,
            "order": null,
            "overflow": null,
            "overflow_x": null,
            "overflow_y": null,
            "padding": null,
            "right": null,
            "top": null,
            "visibility": null,
            "width": null
          }
        },
        "6ee2154e83eb4f069cf33122d343a6e8": {
          "model_module": "@jupyter-widgets/base",
          "model_module_version": "1.2.0",
          "model_name": "LayoutModel",
          "state": {
            "_model_module": "@jupyter-widgets/base",
            "_model_module_version": "1.2.0",
            "_model_name": "LayoutModel",
            "_view_count": null,
            "_view_module": "@jupyter-widgets/base",
            "_view_module_version": "1.2.0",
            "_view_name": "LayoutView",
            "align_content": null,
            "align_items": null,
            "align_self": null,
            "border": null,
            "bottom": null,
            "display": null,
            "flex": null,
            "flex_flow": null,
            "grid_area": null,
            "grid_auto_columns": null,
            "grid_auto_flow": null,
            "grid_auto_rows": null,
            "grid_column": null,
            "grid_gap": null,
            "grid_row": null,
            "grid_template_areas": null,
            "grid_template_columns": null,
            "grid_template_rows": null,
            "height": null,
            "justify_content": null,
            "justify_items": null,
            "left": null,
            "margin": null,
            "max_height": null,
            "max_width": null,
            "min_height": null,
            "min_width": null,
            "object_fit": null,
            "object_position": null,
            "order": null,
            "overflow": null,
            "overflow_x": null,
            "overflow_y": null,
            "padding": null,
            "right": null,
            "top": null,
            "visibility": null,
            "width": null
          }
        },
        "76629d45633d44d8b10010e6f66c44e5": {
          "model_module": "@jupyter-widgets/base",
          "model_module_version": "1.2.0",
          "model_name": "LayoutModel",
          "state": {
            "_model_module": "@jupyter-widgets/base",
            "_model_module_version": "1.2.0",
            "_model_name": "LayoutModel",
            "_view_count": null,
            "_view_module": "@jupyter-widgets/base",
            "_view_module_version": "1.2.0",
            "_view_name": "LayoutView",
            "align_content": null,
            "align_items": null,
            "align_self": null,
            "border": null,
            "bottom": null,
            "display": null,
            "flex": null,
            "flex_flow": null,
            "grid_area": null,
            "grid_auto_columns": null,
            "grid_auto_flow": null,
            "grid_auto_rows": null,
            "grid_column": null,
            "grid_gap": null,
            "grid_row": null,
            "grid_template_areas": null,
            "grid_template_columns": null,
            "grid_template_rows": null,
            "height": null,
            "justify_content": null,
            "justify_items": null,
            "left": null,
            "margin": null,
            "max_height": null,
            "max_width": null,
            "min_height": null,
            "min_width": null,
            "object_fit": null,
            "object_position": null,
            "order": null,
            "overflow": null,
            "overflow_x": null,
            "overflow_y": null,
            "padding": null,
            "right": null,
            "top": null,
            "visibility": null,
            "width": null
          }
        },
        "7ab54ba23f43419f9dd3733e14560a1a": {
          "model_module": "@jupyter-widgets/base",
          "model_module_version": "1.2.0",
          "model_name": "LayoutModel",
          "state": {
            "_model_module": "@jupyter-widgets/base",
            "_model_module_version": "1.2.0",
            "_model_name": "LayoutModel",
            "_view_count": null,
            "_view_module": "@jupyter-widgets/base",
            "_view_module_version": "1.2.0",
            "_view_name": "LayoutView",
            "align_content": null,
            "align_items": null,
            "align_self": null,
            "border": null,
            "bottom": null,
            "display": null,
            "flex": null,
            "flex_flow": null,
            "grid_area": null,
            "grid_auto_columns": null,
            "grid_auto_flow": null,
            "grid_auto_rows": null,
            "grid_column": null,
            "grid_gap": null,
            "grid_row": null,
            "grid_template_areas": null,
            "grid_template_columns": null,
            "grid_template_rows": null,
            "height": null,
            "justify_content": null,
            "justify_items": null,
            "left": null,
            "margin": null,
            "max_height": null,
            "max_width": null,
            "min_height": null,
            "min_width": null,
            "object_fit": null,
            "object_position": null,
            "order": null,
            "overflow": null,
            "overflow_x": null,
            "overflow_y": null,
            "padding": null,
            "right": null,
            "top": null,
            "visibility": null,
            "width": null
          }
        },
        "83a0e2a626ca441988eef97aa18d5ce7": {
          "model_module": "@jupyter-widgets/controls",
          "model_module_version": "1.5.0",
          "model_name": "FloatProgressModel",
          "state": {
            "_dom_classes": [],
            "_model_module": "@jupyter-widgets/controls",
            "_model_module_version": "1.5.0",
            "_model_name": "FloatProgressModel",
            "_view_count": null,
            "_view_module": "@jupyter-widgets/controls",
            "_view_module_version": "1.5.0",
            "_view_name": "ProgressView",
            "bar_style": "success",
            "description": "",
            "description_tooltip": null,
            "layout": "IPY_MODEL_23882b82ac234f6ba917c01b771310ea",
            "max": 2,
            "min": 0,
            "orientation": "horizontal",
            "style": "IPY_MODEL_52505377ffee4b7482713a9f3c1aff62",
            "value": 2
          }
        },
        "8734abfa8a614a62874ebf60d4c77104": {
          "model_module": "@jupyter-widgets/controls",
          "model_module_version": "1.5.0",
          "model_name": "DescriptionStyleModel",
          "state": {
            "_model_module": "@jupyter-widgets/controls",
            "_model_module_version": "1.5.0",
            "_model_name": "DescriptionStyleModel",
            "_view_count": null,
            "_view_module": "@jupyter-widgets/base",
            "_view_module_version": "1.2.0",
            "_view_name": "StyleView",
            "description_width": ""
          }
        },
        "8f10e71072d549a98742b179283fe38e": {
          "model_module": "@jupyter-widgets/controls",
          "model_module_version": "1.5.0",
          "model_name": "DescriptionStyleModel",
          "state": {
            "_model_module": "@jupyter-widgets/controls",
            "_model_module_version": "1.5.0",
            "_model_name": "DescriptionStyleModel",
            "_view_count": null,
            "_view_module": "@jupyter-widgets/base",
            "_view_module_version": "1.2.0",
            "_view_name": "StyleView",
            "description_width": ""
          }
        },
        "8f9e96a354d54ff7b7e42e7ea4ebe2ef": {
          "model_module": "@jupyter-widgets/controls",
          "model_module_version": "1.5.0",
          "model_name": "DescriptionStyleModel",
          "state": {
            "_model_module": "@jupyter-widgets/controls",
            "_model_module_version": "1.5.0",
            "_model_name": "DescriptionStyleModel",
            "_view_count": null,
            "_view_module": "@jupyter-widgets/base",
            "_view_module_version": "1.2.0",
            "_view_name": "StyleView",
            "description_width": ""
          }
        },
        "9b0da374f2e44773ab023664bcabaf1b": {
          "model_module": "@jupyter-widgets/base",
          "model_module_version": "1.2.0",
          "model_name": "LayoutModel",
          "state": {
            "_model_module": "@jupyter-widgets/base",
            "_model_module_version": "1.2.0",
            "_model_name": "LayoutModel",
            "_view_count": null,
            "_view_module": "@jupyter-widgets/base",
            "_view_module_version": "1.2.0",
            "_view_name": "LayoutView",
            "align_content": null,
            "align_items": null,
            "align_self": null,
            "border": null,
            "bottom": null,
            "display": null,
            "flex": null,
            "flex_flow": null,
            "grid_area": null,
            "grid_auto_columns": null,
            "grid_auto_flow": null,
            "grid_auto_rows": null,
            "grid_column": null,
            "grid_gap": null,
            "grid_row": null,
            "grid_template_areas": null,
            "grid_template_columns": null,
            "grid_template_rows": null,
            "height": null,
            "justify_content": null,
            "justify_items": null,
            "left": null,
            "margin": null,
            "max_height": null,
            "max_width": null,
            "min_height": null,
            "min_width": null,
            "object_fit": null,
            "object_position": null,
            "order": null,
            "overflow": null,
            "overflow_x": null,
            "overflow_y": null,
            "padding": null,
            "right": null,
            "top": null,
            "visibility": null,
            "width": null
          }
        },
        "9cfe212b91ab483ba4bdacd3baec92ff": {
          "model_module": "@jupyter-widgets/controls",
          "model_module_version": "1.5.0",
          "model_name": "DescriptionStyleModel",
          "state": {
            "_model_module": "@jupyter-widgets/controls",
            "_model_module_version": "1.5.0",
            "_model_name": "DescriptionStyleModel",
            "_view_count": null,
            "_view_module": "@jupyter-widgets/base",
            "_view_module_version": "1.2.0",
            "_view_name": "StyleView",
            "description_width": ""
          }
        },
        "9ed5dbffd4ee4a65bccb67c01baed101": {
          "model_module": "@jupyter-widgets/controls",
          "model_module_version": "1.5.0",
          "model_name": "FloatProgressModel",
          "state": {
            "_dom_classes": [],
            "_model_module": "@jupyter-widgets/controls",
            "_model_module_version": "1.5.0",
            "_model_name": "FloatProgressModel",
            "_view_count": null,
            "_view_module": "@jupyter-widgets/controls",
            "_view_module_version": "1.5.0",
            "_view_name": "ProgressView",
            "bar_style": "success",
            "description": "",
            "description_tooltip": null,
            "layout": "IPY_MODEL_76629d45633d44d8b10010e6f66c44e5",
            "max": 60746960,
            "min": 0,
            "orientation": "horizontal",
            "style": "IPY_MODEL_177e634aa2db41f9b0e957ffad20ccfa",
            "value": 60746960
          }
        },
        "a878354b388a4cb8999fc9c25f0f1bd6": {
          "model_module": "@jupyter-widgets/controls",
          "model_module_version": "1.5.0",
          "model_name": "HBoxModel",
          "state": {
            "_dom_classes": [],
            "_model_module": "@jupyter-widgets/controls",
            "_model_module_version": "1.5.0",
            "_model_name": "HBoxModel",
            "_view_count": null,
            "_view_module": "@jupyter-widgets/controls",
            "_view_module_version": "1.5.0",
            "_view_name": "HBoxView",
            "box_style": "",
            "children": [
              "IPY_MODEL_ebae0d7803af4a6daf0695c6ae826ae5",
              "IPY_MODEL_9ed5dbffd4ee4a65bccb67c01baed101",
              "IPY_MODEL_6ba03ecffba24d5bb5de9006e149a9ce"
            ],
            "layout": "IPY_MODEL_6ee2154e83eb4f069cf33122d343a6e8"
          }
        },
        "ae0621c243fd45a397db5ddc7cb84a84": {
          "model_module": "@jupyter-widgets/controls",
          "model_module_version": "1.5.0",
          "model_name": "HBoxModel",
          "state": {
            "_dom_classes": [],
            "_model_module": "@jupyter-widgets/controls",
            "_model_module_version": "1.5.0",
            "_model_name": "HBoxModel",
            "_view_count": null,
            "_view_module": "@jupyter-widgets/controls",
            "_view_module_version": "1.5.0",
            "_view_name": "HBoxView",
            "box_style": "",
            "children": [
              "IPY_MODEL_3edae19779cc4c94854d51353819352d",
              "IPY_MODEL_83a0e2a626ca441988eef97aa18d5ce7",
              "IPY_MODEL_56e4111d827b49cba12c6caa8a3a604f"
            ],
            "layout": "IPY_MODEL_01d1361582434186866ad540850feb25"
          }
        },
        "b25c0e0913d542f2ae16f95ddf14bcd3": {
          "model_module": "@jupyter-widgets/controls",
          "model_module_version": "1.5.0",
          "model_name": "DescriptionStyleModel",
          "state": {
            "_model_module": "@jupyter-widgets/controls",
            "_model_module_version": "1.5.0",
            "_model_name": "DescriptionStyleModel",
            "_view_count": null,
            "_view_module": "@jupyter-widgets/base",
            "_view_module_version": "1.2.0",
            "_view_name": "StyleView",
            "description_width": ""
          }
        },
        "ba0fc3e4f9ee4b38901e2297c2210043": {
          "model_module": "@jupyter-widgets/controls",
          "model_module_version": "1.5.0",
          "model_name": "DescriptionStyleModel",
          "state": {
            "_model_module": "@jupyter-widgets/controls",
            "_model_module_version": "1.5.0",
            "_model_name": "DescriptionStyleModel",
            "_view_count": null,
            "_view_module": "@jupyter-widgets/base",
            "_view_module_version": "1.2.0",
            "_view_name": "StyleView",
            "description_width": ""
          }
        },
        "c7c5b2c6c7bd4c689586cc4f961b3fb7": {
          "model_module": "@jupyter-widgets/controls",
          "model_module_version": "1.5.0",
          "model_name": "FloatProgressModel",
          "state": {
            "_dom_classes": [],
            "_model_module": "@jupyter-widgets/controls",
            "_model_module_version": "1.5.0",
            "_model_name": "FloatProgressModel",
            "_view_count": null,
            "_view_module": "@jupyter-widgets/controls",
            "_view_module_version": "1.5.0",
            "_view_name": "ProgressView",
            "bar_style": "success",
            "description": "",
            "description_tooltip": null,
            "layout": "IPY_MODEL_6d2fb4f84ed74017bf34d22aea40062f",
            "max": 52801928,
            "min": 0,
            "orientation": "horizontal",
            "style": "IPY_MODEL_60eeabcb0c5a4b71a959f2acc4fd5f28",
            "value": 52801928
          }
        },
        "e4648bb0e6734902bde8170cb2e8048e": {
          "model_module": "@jupyter-widgets/base",
          "model_module_version": "1.2.0",
          "model_name": "LayoutModel",
          "state": {
            "_model_module": "@jupyter-widgets/base",
            "_model_module_version": "1.2.0",
            "_model_name": "LayoutModel",
            "_view_count": null,
            "_view_module": "@jupyter-widgets/base",
            "_view_module_version": "1.2.0",
            "_view_name": "LayoutView",
            "align_content": null,
            "align_items": null,
            "align_self": null,
            "border": null,
            "bottom": null,
            "display": null,
            "flex": null,
            "flex_flow": null,
            "grid_area": null,
            "grid_auto_columns": null,
            "grid_auto_flow": null,
            "grid_auto_rows": null,
            "grid_column": null,
            "grid_gap": null,
            "grid_row": null,
            "grid_template_areas": null,
            "grid_template_columns": null,
            "grid_template_rows": null,
            "height": null,
            "justify_content": null,
            "justify_items": null,
            "left": null,
            "margin": null,
            "max_height": null,
            "max_width": null,
            "min_height": null,
            "min_width": null,
            "object_fit": null,
            "object_position": null,
            "order": null,
            "overflow": null,
            "overflow_x": null,
            "overflow_y": null,
            "padding": null,
            "right": null,
            "top": null,
            "visibility": null,
            "width": null
          }
        },
        "ebae0d7803af4a6daf0695c6ae826ae5": {
          "model_module": "@jupyter-widgets/controls",
          "model_module_version": "1.5.0",
          "model_name": "HTMLModel",
          "state": {
            "_dom_classes": [],
            "_model_module": "@jupyter-widgets/controls",
            "_model_module_version": "1.5.0",
            "_model_name": "HTMLModel",
            "_view_count": null,
            "_view_module": "@jupyter-widgets/controls",
            "_view_module_version": "1.5.0",
            "_view_name": "HTMLView",
            "description": "",
            "description_tooltip": null,
            "layout": "IPY_MODEL_65caa98e486948d68c8caa096fad1c21",
            "placeholder": "​",
            "style": "IPY_MODEL_8f10e71072d549a98742b179283fe38e",
            "value": "bert_lstm_model.h5: 100%"
          }
        },
        "eec8df2cb33e4483b5d8fc796cb5f17c": {
          "model_module": "@jupyter-widgets/base",
          "model_module_version": "1.2.0",
          "model_name": "LayoutModel",
          "state": {
            "_model_module": "@jupyter-widgets/base",
            "_model_module_version": "1.2.0",
            "_model_name": "LayoutModel",
            "_view_count": null,
            "_view_module": "@jupyter-widgets/base",
            "_view_module_version": "1.2.0",
            "_view_name": "LayoutView",
            "align_content": null,
            "align_items": null,
            "align_self": null,
            "border": null,
            "bottom": null,
            "display": null,
            "flex": null,
            "flex_flow": null,
            "grid_area": null,
            "grid_auto_columns": null,
            "grid_auto_flow": null,
            "grid_auto_rows": null,
            "grid_column": null,
            "grid_gap": null,
            "grid_row": null,
            "grid_template_areas": null,
            "grid_template_columns": null,
            "grid_template_rows": null,
            "height": null,
            "justify_content": null,
            "justify_items": null,
            "left": null,
            "margin": null,
            "max_height": null,
            "max_width": null,
            "min_height": null,
            "min_width": null,
            "object_fit": null,
            "object_position": null,
            "order": null,
            "overflow": null,
            "overflow_x": null,
            "overflow_y": null,
            "padding": null,
            "right": null,
            "top": null,
            "visibility": null,
            "width": null
          }
        },
        "f3451ca17fc242eea15568018a009738": {
          "model_module": "@jupyter-widgets/base",
          "model_module_version": "1.2.0",
          "model_name": "LayoutModel",
          "state": {
            "_model_module": "@jupyter-widgets/base",
            "_model_module_version": "1.2.0",
            "_model_name": "LayoutModel",
            "_view_count": null,
            "_view_module": "@jupyter-widgets/base",
            "_view_module_version": "1.2.0",
            "_view_name": "LayoutView",
            "align_content": null,
            "align_items": null,
            "align_self": null,
            "border": null,
            "bottom": null,
            "display": null,
            "flex": null,
            "flex_flow": null,
            "grid_area": null,
            "grid_auto_columns": null,
            "grid_auto_flow": null,
            "grid_auto_rows": null,
            "grid_column": null,
            "grid_gap": null,
            "grid_row": null,
            "grid_template_areas": null,
            "grid_template_columns": null,
            "grid_template_rows": null,
            "height": null,
            "justify_content": null,
            "justify_items": null,
            "left": null,
            "margin": null,
            "max_height": null,
            "max_width": null,
            "min_height": null,
            "min_width": null,
            "object_fit": null,
            "object_position": null,
            "order": null,
            "overflow": null,
            "overflow_x": null,
            "overflow_y": null,
            "padding": null,
            "right": null,
            "top": null,
            "visibility": null,
            "width": null
          }
        }
      }
    }
  },
  "nbformat": 4,
  "nbformat_minor": 0
}
